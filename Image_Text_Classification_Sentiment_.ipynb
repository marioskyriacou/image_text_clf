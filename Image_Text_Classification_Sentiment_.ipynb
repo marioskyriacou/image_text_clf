{
  "nbformat": 4,
  "nbformat_minor": 0,
  "metadata": {
    "colab": {
      "provenance": [],
      "collapsed_sections": [
        "cC_nRNlWITN-",
        "NOtBFLOnJlLs",
        "v9_rdb3fTQw6",
        "S7Xe1d9xLDic",
        "TQHmWeGZLQ0D",
        "aJ14deSPLkOg",
        "tb0v0umPSME3",
        "l8EfAA0OSQlf",
        "7i-7z9L6SVnr",
        "lxj6hUKUTx5g",
        "nOO2ABW6vj__",
        "1uD9ZoUQdiet",
        "Z0NmaQv7ojf5",
        "IHA4C8ULoVUD"
      ],
      "authorship_tag": "ABX9TyNxGFXbEkLKGLCjL5edbSgc",
      "include_colab_link": true
    },
    "kernelspec": {
      "name": "python3",
      "display_name": "Python 3"
    },
    "language_info": {
      "name": "python"
    }
  },
  "cells": [
    {
      "cell_type": "markdown",
      "metadata": {
        "id": "view-in-github",
        "colab_type": "text"
      },
      "source": [
        "<a href=\"https://colab.research.google.com/github/marioskyriacou/image_text_clf/blob/main/Image_Text_Classification_Sentiment_.ipynb\" target=\"_parent\"><img src=\"https://colab.research.google.com/assets/colab-badge.svg\" alt=\"Open In Colab\"/></a>"
      ]
    },
    {
      "cell_type": "markdown",
      "source": [
        "# Libraries"
      ],
      "metadata": {
        "id": "cC_nRNlWITN-"
      }
    },
    {
      "cell_type": "code",
      "execution_count": null,
      "metadata": {
        "id": "CPCPeb9qIRms",
        "colab": {
          "base_uri": "https://localhost:8080/"
        },
        "outputId": "6ba5c2b5-9a7b-4899-beff-44833f200a44"
      },
      "outputs": [
        {
          "output_type": "stream",
          "name": "stderr",
          "text": [
            "[nltk_data] Downloading package stopwords to /root/nltk_data...\n",
            "[nltk_data]   Package stopwords is already up-to-date!\n",
            "[nltk_data] Downloading package punkt to /root/nltk_data...\n",
            "[nltk_data]   Package punkt is already up-to-date!\n",
            "[nltk_data] Downloading package words to /root/nltk_data...\n",
            "[nltk_data]   Package words is already up-to-date!\n"
          ]
        }
      ],
      "source": [
        "# Mount Drive\n",
        "from google.colab import drive\n",
        "# Main libraries\n",
        "import pandas as pd\n",
        "import numpy as np\n",
        "import os\n",
        "# plots\n",
        "import seaborn as sns\n",
        "import matplotlib.pyplot as plt\n",
        "# text analysis\n",
        "import re\n",
        "import string\n",
        "import nltk\n",
        "from nltk.corpus import stopwords\n",
        "nltk.download('stopwords')\n",
        "nltk.download('punkt')\n",
        "nltk.download('words')\n",
        "# Stemiming\n",
        "\n",
        "from nltk.stem import SnowballStemmer\n",
        "from nltk.tokenize import word_tokenize\n",
        "### Text Featur Extraction\n",
        "from gensim.models import Word2Vec\n",
        "from sklearn.feature_extraction.text import TfidfVectorizer\n",
        "### Images\n",
        "import cv2\n",
        "import tensorflow as tf\n",
        "from tensorflow.keras.preprocessing import image\n",
        "# HOG feature extraction\n",
        "from skimage.feature import hog\n",
        "from skimage import exposure\n",
        "#LBP feat extraction\n",
        "from skimage.feature import local_binary_pattern\n",
        "\n",
        "#time\n",
        "import time\n",
        "from tqdm import tqdm\n",
        "\n",
        "import multiprocessing\n",
        "from sklearn.utils import shuffle\n",
        "\n",
        "# Split data\n",
        "from sklearn.model_selection import train_test_split\n",
        "\n",
        "# ML Models\n",
        "from sklearn.svm import SVC\n",
        "from sklearn import tree\n",
        "from sklearn.linear_model import LogisticRegression\n",
        "from sklearn.naive_bayes import GaussianNB, MultinomialNB, BernoulliNB\n",
        "from sklearn.tree import DecisionTreeClassifier\n",
        "from sklearn.ensemble import RandomForestClassifier\n",
        "from sklearn.linear_model import SGDClassifier\n",
        "from sklearn.svm import LinearSVC\n",
        "\n",
        "# Metrics\n",
        "from sklearn.metrics import classification_report, confusion_matrix\n",
        "from sklearn.metrics import accuracy_score, precision_score, recall_score, f1_score, balanced_accuracy_score\n",
        "\n",
        "# Balance Data\n",
        "from imblearn.over_sampling import SMOTE\n"
      ]
    },
    {
      "cell_type": "markdown",
      "source": [
        "# Remove 25% of the data"
      ],
      "metadata": {
        "id": "NOtBFLOnJlLs"
      }
    },
    {
      "cell_type": "markdown",
      "source": [
        "\n",
        "\n",
        "```\n",
        "# read csv directory\n",
        "text_df = pd.read_csv(label_directory)\n",
        "```\n",
        "\n"
      ],
      "metadata": {
        "id": "iBcUFwzgJrtA"
      }
    },
    {
      "cell_type": "markdown",
      "source": [
        "Delete 25% from each sentiment"
      ],
      "metadata": {
        "id": "owAYivo3KDs3"
      }
    },
    {
      "cell_type": "markdown",
      "source": [
        "\n",
        "\n",
        "```\n",
        "def remove_25_per(df, col, percentage):\n",
        "  # Remove a given % of each category in a categorical column\n",
        "  unique_classes = df[col].unique()\n",
        "  indx_remove_lst = []\n",
        "\n",
        "  for class_label in unique_classes:\n",
        "    # Get indices of samples belonging to the current class\n",
        "    class_indices = df[df[col] == class_label].index\n",
        "\n",
        "    # Calculate 25% of samples to remove\n",
        "    num_samples_to_remove = int(percentage * len(class_indices))\n",
        "    print(f'Class_Name:{class_label}, Amount:{len(class_indices)}, To_remove:{num_samples_to_remove}')\n",
        "\n",
        "    # Randomly select indices to remove\n",
        "    indices_to_remove = np.random.choice(class_indices, num_samples_to_remove, replace=False)\n",
        "    indx_remove_lst.append(indices_to_remove)\n",
        "\n",
        "  #Flatten lists of lists\n",
        "  indx_remove_lst = [item for sublist in indx_remove_lst for item in sublist]\n",
        "  image_names_remove = df['image_name'].iloc[indx_remove_lst].to_list()\n",
        "  print(f'Total Samples removes:{len(indx_remove_lst)}')\n",
        "  return indx_remove_lst, image_names_remove\n",
        "```\n",
        "\n"
      ],
      "metadata": {
        "id": "e0X6iHV-KGtH"
      }
    },
    {
      "cell_type": "markdown",
      "source": [
        "\n",
        "\n",
        "```\n",
        "indx_remove_lst, image_names_remove = remove_25_per(df= text_df, col ='overall_sentiment', percentage=0.35)\n",
        "```\n",
        "\n"
      ],
      "metadata": {
        "id": "0KeIpS3PKWfH"
      }
    },
    {
      "cell_type": "markdown",
      "source": [
        "\n",
        "\n",
        "```\n",
        "print(f'Text Data Shape Before {text_df.shape}')\n",
        "text_df = text_df.drop(indx_remove_lst)\n",
        "print(f'Text Data Shape After {text_df.shape}')\n",
        "```\n",
        "\n"
      ],
      "metadata": {
        "id": "hyQrRjg0KebE"
      }
    },
    {
      "cell_type": "markdown",
      "source": [
        "\n",
        "\n",
        "```\n",
        "# Loop through each image filename\n",
        "for image_filename in image_names_remove:\n",
        "    # Full path to the image\n",
        "    image_path = os.path.join(image_directory, image_filename)\n",
        "    # Check if the file exists\n",
        "    if os.path.exists(image_path):\n",
        "        # Remove the file\n",
        "        os.remove(image_path)\n",
        "        #print(f\"{image_filename} has been removed from {image_directory}.\")\n",
        "    else:\n",
        "        print(f\"{image_filename} does not exist in {image_directory}.\")\n",
        "\n",
        "text_df.to_csv('/content/drive/MyDrive/Image_Text_Classification/Dataset/labels_update.csv', index=False)\n",
        "```\n",
        "\n"
      ],
      "metadata": {
        "id": "IFuhrbkWKiJ6"
      }
    },
    {
      "cell_type": "markdown",
      "source": [
        "**Class_Name**:very_positive, **Amount**:1033, **To_remove**:361\\\n",
        "**Class_Name**:positive, **Amount**:3127, **To_remove**:1094\\\n",
        "**Class_Name**:neutral, **Amount**:2201, **To_remove**:770\\\n",
        "**Class_Name**:negative, **Amount**:480, **To_remove**:168\\\n",
        "**Class_Name**:very_negative, **Amount**:151, **To_remove**:52\\\n",
        "Total Samples removes:2445\\\n",
        "Text Data Shape Before (6992, 5)\\\n",
        "Text Data Shape After (4547, 5)"
      ],
      "metadata": {
        "id": "6Z-BeP4cKw8Y"
      }
    },
    {
      "cell_type": "markdown",
      "source": [
        "# Papers"
      ],
      "metadata": {
        "id": "v9_rdb3fTQw6"
      }
    },
    {
      "cell_type": "markdown",
      "source": [
        "*Multi-Modal Classification Using Images and Text:*\n",
        "* [Paper 1](https://scholar.smu.edu/cgi/viewcontent.cgi?article=1165&context=datasciencereview)\n",
        "\n",
        "*Text:*\n",
        "* [Paper 1](https://www.researchgate.net/profile/Vijayarani-Mohan/publication/339529230_Preprocessing_Techniques_for_Text_Mining_-_An_Overview/links/5e57a0f7299bf1bdb83e7505/Preprocessing-Techniques-for-Text-Mining-An-Overview.pdf)\n",
        "* [Paper 2](https://www.ncbi.nlm.nih.gov/pmc/articles/PMC5732309/#:~:text=Selection%20from%20the%20document%20part,%2C%20mapping%2C%20and%20clustering%20method )\n",
        "\n",
        "**Word2Vec** \\\n",
        "[Word2Vec prt1](https://spotintelligence.com/2023/02/15/word2vec-for-text-classification/#Word2Vec_for_text_classification)    // [Word2Vec prt2](https://udai.gitbook.io/practical-ml/natural-language-processing/basics-of-nlp-and-feature-extraction-methods/feature-extraction-methods-word2vec) // [Word2Vec prt3](https://www.analyticsvidhya.com/blog/2023/07/step-by-step-guide-to-word2vec-with-gensim/) // [Word2Vec prt4](https://towardsdatascience.com/learn-word2vec-by-implementing-it-in-tensorflow-45641adaf2ac) // [Word2Vec prt5](https://medium.com/analytics-vidhya/implementing-word2vec-in-tensorflow-44f93cf2665f)\n",
        "\n",
        "**Weighted TF-IDF**\n",
        "\n",
        "[TF-IDF prt1](https://medium.com/geekculture/text-feature-extraction-2-3-tf-idf-model-c3a8f7a92bc9) // [TF-IDF prt2](https://www.geeksforgeeks.org/sklearn-feature-extraction-with-tf-idf/) // [TF-IDF prt3](https://ayselaydin.medium.com/5-tf-idf-a-traditional-approach-to-feature-extraction-in-nlp-using-python-348873750e1e) // [Imbalance Tf-IDF1]( https://medium.com/@rohit_batra/multi-class-text-classification-with-scikit-learn-using-tf-idf-model-161d395ce374) // [Imbalance Tf-IDF2](http://michael-harmon.com/blog/NLP1.html) // [Imbalance Tf-IDF 3](https://www.deepwizai.com/projects/how-to-correctly-use-tf-idf-with-imbalanced-data )\n",
        "\n",
        "\n",
        "\n",
        "[Image Feature Extraction techniques](https://medium.com/@mohitjavali/10-ways-to-extract-features-from-an-image-f44c8e9b0fbf)\n",
        "\n",
        "\n",
        "**Histogram of Oriented Gradients (HOG)**\\\n",
        "[HOG 1](https://www.analyticsvidhya.com/blog/2019/09/feature-engineering-images-introduction-hog-feature-descriptor/) // [HOG 2](https://towardsdatascience.com/hog-histogram-of-oriented-gradients-67ecd887675f) \\\n",
        "\n",
        "\n",
        "**Local Binary Patterns (LBP)**\\\n",
        "[LBP1](https://pyimagesearch.com/2015/12/07/local-binary-patterns-with-python-opencv/) // [LBP2](https://scikit-image.org/docs/stable/auto_examples/features_detection/plot_local_binary_pattern.html) // [LBP3](https://medium.com/swlh/local-binary-pattern-algorithm-the-math-behind-it-%EF%B8%8F-edf7b0e1c8b3)\n",
        "\n",
        "\n",
        "**Frequency-based features**\\\n",
        "[FBF1](https://towardsdatascience.com/learn-discrete-fourier-transform-dft-9f7a2df4bfe9) // [FBF2](https://towardsdatascience.com/image-processing-with-python-application-of-fourier-transformation-5a8584dc175b)"
      ],
      "metadata": {
        "id": "lHfBz-U9TSx6"
      }
    },
    {
      "cell_type": "markdown",
      "source": [
        "# Read Data sets"
      ],
      "metadata": {
        "id": "S7Xe1d9xLDic"
      }
    },
    {
      "cell_type": "markdown",
      "source": [
        "Mount Drive"
      ],
      "metadata": {
        "id": "b2YJWua0LMMW"
      }
    },
    {
      "cell_type": "code",
      "source": [
        "# Connect & Load from grive\n",
        "drive.mount('/content/drive')\n",
        "#Check the files in the direcotory\n",
        "!ls \"/content/drive/MyDrive/Image_Text_Classification/Dataset/\""
      ],
      "metadata": {
        "id": "mr2HsbSSISxE",
        "colab": {
          "base_uri": "https://localhost:8080/"
        },
        "outputId": "588410b3-392b-44d7-8c6c-ce01bf64aaab"
      },
      "execution_count": null,
      "outputs": [
        {
          "output_type": "stream",
          "name": "stdout",
          "text": [
            "Drive already mounted at /content/drive; to attempt to forcibly remount, call drive.mount(\"/content/drive\", force_remount=True).\n",
            "images\tlabels_update.csv\n"
          ]
        }
      ]
    },
    {
      "cell_type": "code",
      "source": [
        "#Check the files in the direcotory\n",
        "label_directory =  \"/content/drive/MyDrive/Image_Text_Classification/Dataset/labels_update.csv\"\n",
        "image_directory = \"/content/drive/MyDrive/Image_Text_Classification/Dataset/images/images\""
      ],
      "metadata": {
        "id": "ws2XOp5mISux"
      },
      "execution_count": null,
      "outputs": []
    },
    {
      "cell_type": "markdown",
      "source": [
        "## Read csv/text Data"
      ],
      "metadata": {
        "id": "TQHmWeGZLQ0D"
      }
    },
    {
      "cell_type": "code",
      "source": [
        "# read text_df\n",
        "text_df = pd.read_csv(label_directory)\n",
        "\n",
        "# delete unnesecary columns\n",
        "drop_cols = ['Unnamed: 0', 'text_ocr']\n",
        "text_df = text_df.drop(drop_cols, axis=1)\n",
        "print(f'Columns Droped:{drop_cols}')\n",
        "print(f'Text_Data Shape:{text_df.shape}')\n",
        "\n",
        "#path of images_names\n",
        "img_lst_names=os.listdir(image_directory)\n",
        "print(f'Images:{len(img_lst_names)}')\n"
      ],
      "metadata": {
        "id": "ncTJMu2NISq0",
        "colab": {
          "base_uri": "https://localhost:8080/"
        },
        "outputId": "fa9bd61b-254f-4cff-ae59-55f72e4a6b74"
      },
      "execution_count": null,
      "outputs": [
        {
          "output_type": "stream",
          "name": "stdout",
          "text": [
            "Columns Droped:['Unnamed: 0', 'text_ocr']\n",
            "Text_Data Shape:(4547, 3)\n",
            "Images:4544\n"
          ]
        }
      ]
    },
    {
      "cell_type": "markdown",
      "source": [
        "Null Values Remove & Delete the coresponting Img export Csv without null Vals\\\n",
        "***Null Values(Img):*** image_120.jpg // image_6782.jpg// image_6787.jpg"
      ],
      "metadata": {
        "id": "9QaPQinpLY95"
      }
    },
    {
      "cell_type": "code",
      "source": [
        "# # Null Values index df & images\n",
        "null_indx = text_df[text_df.isnull().any(axis=1)].index\n",
        "null_img_indx = text_df['image_name'].iloc[null_indx]\n",
        "print(f'Null Vals indx:{null_indx}. Null Img:\\n{null_img_indx}')\n",
        "#Drop Null Val df\n",
        "text_df = text_df.dropna().reset_index(drop=True)\n",
        "\n",
        "# #Drop Null Val img\n",
        "# # for image_filename in null_img_indx:\n",
        "# #   null_image_path = os.path.join(image_directory, image_filename)\n",
        "# #   os.remove(null_image_path)\n",
        "\n",
        "print(f'Data Shape:{text_df.shape}')\n",
        "print(text_df.shape[0] == len(img_lst_names) )"
      ],
      "metadata": {
        "id": "rMM_WvHUISpB",
        "colab": {
          "base_uri": "https://localhost:8080/"
        },
        "outputId": "bf90adde-6407-44f4-aa7c-7b0f65418415"
      },
      "execution_count": null,
      "outputs": [
        {
          "output_type": "stream",
          "name": "stdout",
          "text": [
            "Null Vals indx:Index([80, 4412, 4415], dtype='int64'). Null Img:\n",
            "80       image_120.jpg\n",
            "4412    image_6782.jpg\n",
            "4415    image_6787.jpg\n",
            "Name: image_name, dtype: object\n",
            "Data Shape:(4544, 3)\n",
            "True\n"
          ]
        }
      ]
    },
    {
      "cell_type": "markdown",
      "source": [
        "## Read .png/image data"
      ],
      "metadata": {
        "id": "aJ14deSPLkOg"
      }
    },
    {
      "cell_type": "code",
      "source": [
        "def load_images(folder_path, image_ids, width, height):\n",
        "  # Read and store image\n",
        "  # the images are resized, gray scaled and normalized\n",
        "  img_data = []\n",
        "  for id in tqdm(image_ids):\n",
        "    image_path = os.path.join(folder_path, id) # image path\n",
        "    img = image.load_img(image_path, target_size = (width, height, 3) ) #load the image\n",
        "    img_array = np.array(img) #convert to array\n",
        "    img_grayscaled = cv2.cvtColor(img_array, cv2.COLOR_BGR2GRAY) # grayscale\n",
        "    img_norm = np.array(img_grayscaled) / 255\n",
        "    img_data.append(img_norm) #normalize\n",
        "\n",
        "  return img_data"
      ],
      "metadata": {
        "id": "VsFeuSkoISm9"
      },
      "execution_count": null,
      "outputs": []
    },
    {
      "cell_type": "code",
      "source": [
        "images = load_images(folder_path = image_directory,\n",
        "            image_ids = img_lst_names,\n",
        "            width =200, height=200)"
      ],
      "metadata": {
        "id": "mGApBrdBISkt",
        "colab": {
          "base_uri": "https://localhost:8080/"
        },
        "outputId": "ad735d79-6323-446f-90c4-15592d69d844"
      },
      "execution_count": null,
      "outputs": [
        {
          "output_type": "stream",
          "name": "stderr",
          "text": [
            " 11%|█▏        | 514/4544 [02:12<01:33, 43.03it/s]/usr/local/lib/python3.10/dist-packages/PIL/Image.py:996: UserWarning: Palette images with Transparency expressed in bytes should be converted to RGBA images\n",
            "  warnings.warn(\n",
            "100%|██████████| 4544/4544 [03:47<00:00, 19.96it/s]\n"
          ]
        }
      ]
    },
    {
      "cell_type": "markdown",
      "source": [
        "## Analysis of the data"
      ],
      "metadata": {
        "id": "kj3F_ekyP80B"
      }
    },
    {
      "cell_type": "code",
      "source": [
        "def plot_target(df, col, title):\n",
        "  ax = sns.countplot(x=df[col],\n",
        "                    order=df[col].value_counts(ascending=False).index);\n",
        "\n",
        "  abs_values = df[col].value_counts(ascending=False)\n",
        "  rel_values = df[col].value_counts(ascending=False, normalize=True).values * 100\n",
        "  lbls = [f'{p[0]} ({p[1]:.0f}%)' for p in zip(abs_values, rel_values)]\n",
        "\n",
        "  ax.bar_label(container=ax.containers[0], labels=lbls)\n",
        "\n",
        "  plt.title(title)\n",
        "  plt.grid()\n",
        "  ax.set_axisbelow(True)  # grid lines are behind the rest\n",
        "  plt.show()"
      ],
      "metadata": {
        "id": "B9B5iii9ISjE"
      },
      "execution_count": null,
      "outputs": []
    },
    {
      "cell_type": "code",
      "source": [
        "def remapping(x):\n",
        "  if x == 'very_positive':\n",
        "    return 'positive'\n",
        "  elif x == 'very_negative':\n",
        "    return 'negative'\n",
        "  else:\n",
        "    return x"
      ],
      "metadata": {
        "id": "De6k9y_EISeb"
      },
      "execution_count": null,
      "outputs": []
    },
    {
      "cell_type": "code",
      "source": [
        "plot_target(df = text_df, col = 'overall_sentiment', title = 'Tagret %')"
      ],
      "metadata": {
        "id": "7yPFPL5EQ0I7",
        "colab": {
          "base_uri": "https://localhost:8080/"
        },
        "outputId": "67094815-6a3e-4228-9472-f37502a57c02"
      },
      "execution_count": null,
      "outputs": [
        {
          "output_type": "display_data",
          "data": {
            "text/plain": [
              "<Figure size 640x480 with 1 Axes>"
            ],
            "image/png": "[encoded data removed]"
          },
          "metadata": {}
        }
      ]
    },
    {
      "cell_type": "code",
      "source": [
        "#remapping the sentiment\n",
        "text_df['overall_sentiment'] = text_df['overall_sentiment'].apply(remapping)"
      ],
      "metadata": {
        "id": "EMugRXTHQ6CG"
      },
      "execution_count": null,
      "outputs": []
    },
    {
      "cell_type": "code",
      "source": [
        "plot_target(df = text_df, col = 'overall_sentiment', title = 'Tagret %')"
      ],
      "metadata": {
        "id": "k6UbBrJHISbb",
        "colab": {
          "base_uri": "https://localhost:8080/"
        },
        "outputId": "925a984d-0e4e-4edf-dfff-b1a80e57385a"
      },
      "execution_count": null,
      "outputs": [
        {
          "output_type": "display_data",
          "data": {
            "text/plain": [
              "<Figure size 640x480 with 1 Axes>"
            ],
            "image/png": "[encoded data removed]"
          },
          "metadata": {}
        }
      ]
    },
    {
      "cell_type": "markdown",
      "source": [
        "Data Encoding"
      ],
      "metadata": {
        "id": "jasy77W7RTmO"
      }
    },
    {
      "cell_type": "code",
      "source": [
        "text_df_lbl_mapping = {\"positive\": 0, 'neutral':1, 'negative':2}\n",
        "text_df['overall_sentiment'] = text_df['overall_sentiment'].map(text_df_lbl_mapping)"
      ],
      "metadata": {
        "id": "5Kbcf2AcISZY"
      },
      "execution_count": null,
      "outputs": []
    },
    {
      "cell_type": "markdown",
      "source": [
        "# Text Analysis - Functions"
      ],
      "metadata": {
        "id": "tb0v0umPSME3"
      }
    },
    {
      "cell_type": "markdown",
      "source": [
        "## Functions - Text preprocessing"
      ],
      "metadata": {
        "id": "l8EfAA0OSQlf"
      }
    },
    {
      "cell_type": "markdown",
      "source": [
        "*Lower Case*"
      ],
      "metadata": {
        "id": "zcmpQBmZSePZ"
      }
    },
    {
      "cell_type": "code",
      "source": [
        "def lower_case_sentiment(text):\n",
        "  return text.lower()"
      ],
      "metadata": {
        "id": "SWds1NO6ISXV"
      },
      "execution_count": null,
      "outputs": []
    },
    {
      "cell_type": "markdown",
      "source": [
        "*Remove urls*"
      ],
      "metadata": {
        "id": "JWE91TxaSemp"
      }
    },
    {
      "cell_type": "code",
      "source": [
        "def remove_urls(text):\n",
        "    url_pattern = re.compile(r'https?://\\S+|www\\.\\S+')\n",
        "    return url_pattern.sub('', text)\n",
        "\n",
        "# count urls\n",
        "def count_url(df, col):\n",
        "  url_count = 0\n",
        "  url_pattern = re.compile(r'https?://\\S+|www\\.\\S+')\n",
        "      # Find all matches of URLs in the text\n",
        "  for i in df[col]:\n",
        "    urls = re.findall(url_pattern, i)\n",
        "    if len(urls) != 0:\n",
        "      url_count = url_count + 1\n",
        "  print(f'Urls: {url_count}')"
      ],
      "metadata": {
        "id": "ftgWa4tVISVU"
      },
      "execution_count": null,
      "outputs": []
    },
    {
      "cell_type": "markdown",
      "source": [],
      "metadata": {
        "id": "j5ZO0KKVSlU9"
      }
    },
    {
      "cell_type": "code",
      "source": [
        "def remove_punctuations(text):\n",
        "    # Create translation table\n",
        "    translator = str.maketrans('', '', string.punctuation)\n",
        "    # Remove punctuations\n",
        "    return text.translate(translator)"
      ],
      "metadata": {
        "id": "S4hnoxEIISSn"
      },
      "execution_count": null,
      "outputs": []
    },
    {
      "cell_type": "markdown",
      "source": [
        "*Remove Punctuations*"
      ],
      "metadata": {
        "id": "uEeIhedSSon7"
      }
    },
    {
      "cell_type": "code",
      "source": [
        "def remove_punctuations(text):\n",
        "    # Create translation table\n",
        "    translator = str.maketrans('', '', string.punctuation)\n",
        "    # Remove punctuations\n",
        "    return text.translate(translator)"
      ],
      "metadata": {
        "id": "vSFO2HeQISQe"
      },
      "execution_count": null,
      "outputs": []
    },
    {
      "cell_type": "markdown",
      "source": [
        "*Remove Stop words*"
      ],
      "metadata": {
        "id": "eO6aNyTmSpXc"
      }
    },
    {
      "cell_type": "code",
      "source": [
        "def remove_stopwords(text):\n",
        "    # Tokenize the text into words\n",
        "    words = nltk.word_tokenize(text)\n",
        "    # Get English stopwords from NLTK\n",
        "    stop_words = set(stopwords.words('english'))\n",
        "    # Remove stopwords from the text\n",
        "    filtered_words = [word for word in words if word.lower() not in stop_words]\n",
        "    # Join the filtered words back into a single string\n",
        "    filtered_text = ' '.join(filtered_words)\n",
        "    return filtered_text"
      ],
      "metadata": {
        "id": "GwBoz_d8ISNb"
      },
      "execution_count": null,
      "outputs": []
    },
    {
      "cell_type": "markdown",
      "source": [
        "*Remove Numbers*"
      ],
      "metadata": {
        "id": "BuC5jZdnSp_9"
      }
    },
    {
      "cell_type": "code",
      "source": [
        "def remove_numbers(text):\n",
        "    # Use regular expression to remove numbers\n",
        "    return re.sub(r'\\d+', '', text)"
      ],
      "metadata": {
        "id": "TZ9b1WjDISK3"
      },
      "execution_count": null,
      "outputs": []
    },
    {
      "cell_type": "markdown",
      "source": [
        "*Remove Non-English Words*"
      ],
      "metadata": {
        "id": "MC3a91dRSqhc"
      }
    },
    {
      "cell_type": "code",
      "source": [
        "def remove_non_english_words(text):\n",
        "    words = nltk.word_tokenize(text)\n",
        "    #English words from NLTK\n",
        "    english_words = set(nltk.corpus.words.words())\n",
        "    #set of English words\n",
        "    english_text = ' '.join([word for word in words if word in english_words])\n",
        "    return english_text"
      ],
      "metadata": {
        "id": "STrV5p5DISF3"
      },
      "execution_count": null,
      "outputs": []
    },
    {
      "cell_type": "markdown",
      "source": [
        "***Stemming vs Lemmatizations:***\n",
        "* [Link 1](https://www.analyticsvidhya.com/blog/2022/06/stemming-vs-lemmatization-in-nlp-must-know-differences/#:~:text=While%20stemming%20involves%20chopping%20off,computationally%20more%20expensive%20than%20stemming.)\n",
        "* [Link 2](https://www.ibm.com/topics/stemming-lemmatization#:~:text=The%20practical%20distinction%20between%20stemming,be%20found%20in%20the%20dictionary.)"
      ],
      "metadata": {
        "id": "fWTh6giES8xZ"
      }
    },
    {
      "cell_type": "code",
      "source": [
        "# Snowball Stemmer - english\n",
        "snowball = SnowballStemmer(language='english')\n",
        "\n",
        "def snowball_stem(text):\n",
        "    words = word_tokenize(text)\n",
        "    #Snowball Stemmer to each word\n",
        "    stemmed_words = [snowball.stem(word) for word in words]\n",
        "    # Join the stemmed\n",
        "    stemmed_text = ' '.join(stemmed_words)\n",
        "    return stemmed_text"
      ],
      "metadata": {
        "id": "yNmFbCRoTKg1"
      },
      "execution_count": null,
      "outputs": []
    },
    {
      "cell_type": "markdown",
      "source": [
        "## Text Feature Extraction (Functions)"
      ],
      "metadata": {
        "id": "7i-7z9L6SVnr"
      }
    },
    {
      "cell_type": "markdown",
      "source": [
        "Word 2 Vector"
      ],
      "metadata": {
        "id": "fc47V6jieGRX"
      }
    },
    {
      "cell_type": "code",
      "source": [
        "cores = multiprocessing.cpu_count() # Count the number of cores in a computer\n",
        "sentences = [sentence.split() for sentence in text_df['text_corrected'].to_list()]\n",
        "\n",
        "w2v_train = Word2Vec(sentences=sentences,\n",
        "                     vector_size=3000, ##output size of word emebedding\n",
        "                     window=2, ##window size\n",
        "                     min_count=5, ## ignors all the words with total frquency lower than this\n",
        "                     workers=cores-1) ##number of workers to use\n"
      ],
      "metadata": {
        "id": "9vAHgReGTLyh"
      },
      "execution_count": null,
      "outputs": []
    },
    {
      "cell_type": "code",
      "source": [
        "def vectorize(sentence):\n",
        "    words = sentence.split()\n",
        "    words_vecs = [w2v_train.wv[word] for word in words if word in w2v_train.wv]\n",
        "    if len(words_vecs) == 0:\n",
        "        return np.zeros(3000) # the zeros must be tha same size as the vector_size\n",
        "    words_vecs = np.array(words_vecs)\n",
        "    return words_vecs.mean(axis=0)\n",
        "\n"
      ],
      "metadata": {
        "id": "_lxyVETIeLdS"
      },
      "execution_count": null,
      "outputs": []
    },
    {
      "cell_type": "markdown",
      "source": [
        "\n",
        "\n",
        "```\n",
        "X_w2v = np.array([vectorize(sentence) for sentence in X])\n",
        "X_w2v.shape\n",
        "\n",
        "# Normalize\n",
        "df_w2v = pd.DataFrame(X_w2v)\n",
        "df_w2v = (df_w2v-df_w2v.min())/(df_w2v.max()-df_w2v.min())\n",
        "df_w2v.shape\n",
        "```\n",
        "\n"
      ],
      "metadata": {
        "id": "19TZpEKGdc3F"
      }
    },
    {
      "cell_type": "markdown",
      "source": [
        "Weighted TF-IDF"
      ],
      "metadata": {
        "id": "etFEQPYVe0gZ"
      }
    },
    {
      "cell_type": "code",
      "source": [
        "def compute_class_weight(train_y):\n",
        "    \"\"\"\n",
        "    Compute class weight given imbalanced training data\n",
        "    Usually used in the neural network model to augment the loss function (weighted loss function)\n",
        "    Favouring/giving more weights to the rare classes.\n",
        "    \"\"\"\n",
        "    import sklearn.utils.class_weight as scikit_class_weight\n",
        "\n",
        "    class_list = list(set(train_y))\n",
        "    class_weight_value = scikit_class_weight.compute_class_weight(class_weight ='balanced', classes = class_list, y = train_y)\n",
        "    class_weight = dict()\n",
        "\n",
        "    # Initialize all classes in the dictionary with weight 1\n",
        "    curr_max = int(np.max(class_list))\n",
        "    for i in range(curr_max):\n",
        "        class_weight[i] = 1\n",
        "\n",
        "    # Build the dictionary using the weight obtained the scikit function\n",
        "    for i in range(len(class_list)):\n",
        "        class_weight[class_list[i]] = class_weight_value[i]\n",
        "\n",
        "    return class_weight"
      ],
      "metadata": {
        "id": "B4sMoFe7dcX4"
      },
      "execution_count": null,
      "outputs": []
    },
    {
      "cell_type": "code",
      "source": [
        "def tfidf_helper(data, target, unique_class):\n",
        "  return data[data[target] == unique_class]['text_corrected'].to_list()\n",
        "\n",
        "def tfidf_imbalance(data, target, max_feat, weights =None):\n",
        "  classes = data[target].unique()\n",
        "\n",
        "  # Class weights\n",
        "  if weights is None:\n",
        "    samples_per_class = [ len(data[data[target] == clas])  for clas in classes]\n",
        "    total_samples = len(data)\n",
        "    weights = [round(class_samples/total_samples, 2) for class_samples in samples_per_class ]\n",
        "  # Class features\n",
        "  max_features = [int(max_feat * weight) for weight in weights ]\n",
        "  print(f'Weights per class {weights}')\n",
        "  print(f'Features per class {max_features}')\n",
        "\n",
        "  # create vocabulary out of the weights for each class uisng tf-idf\n",
        "  dfs, vocabularies,  = [], []\n",
        "  for cls, max_feature in zip(classes, max_features):\n",
        "    df_class = tfidf_helper(data, target, cls)\n",
        "    #impliment TF-IDf in each dataset\n",
        "    tfidf_class = TfidfVectorizer(max_features=max_feature)\n",
        "    tfidf_class.fit_transform(df_class)\n",
        "    # Append keys - words\n",
        "    vocabularies.append(tfidf_class.get_feature_names_out() )\n",
        "\n",
        "  vocabulary = set([word for vocab in vocabularies for word in vocab])\n",
        "  print(f'Vocabulary len:{len(vocabulary)}')\n",
        "\n",
        "  # Weighted TF-IDF\n",
        "  tfidf_weight = TfidfVectorizer(vocabulary = vocabulary)\n",
        "  df_tfidf = pd.DataFrame(tfidf_weight.fit_transform(data['text_corrected']).toarray(), columns = tfidf_weight.get_feature_names_out() )\n",
        "  print(f'Data Shape:{df_tfidf.shape}')\n",
        "  return df_tfidf\n"
      ],
      "metadata": {
        "id": "blsvoRIge_Zl"
      },
      "execution_count": null,
      "outputs": []
    },
    {
      "cell_type": "markdown",
      "source": [
        "\n",
        "\n",
        "```\n",
        "weights = [ w for w in compute_class_weight(y).values()]\n",
        "df_tdidf = tfidf_imbalance(text_df, 'overall_sentiment', 500, weights = weights)\n",
        "df_tdidf = (df_tdidf-df_tdidf.min())/(df_tdidf.max()-df_tdidf.min())\n",
        "```\n",
        "\n"
      ],
      "metadata": {
        "id": "eDJvjKGJfDdP"
      }
    },
    {
      "cell_type": "markdown",
      "source": [
        "# Image Analysis - Functions"
      ],
      "metadata": {
        "id": "lxj6hUKUTx5g"
      }
    },
    {
      "cell_type": "markdown",
      "source": [
        "Image Feature Extraction"
      ],
      "metadata": {
        "id": "oFk0HiX0f2TX"
      }
    },
    {
      "cell_type": "markdown",
      "source": [
        "HOG"
      ],
      "metadata": {
        "id": "WXFznKNRf9vW"
      }
    },
    {
      "cell_type": "code",
      "source": [
        "def hog_feature_extr(images):\n",
        "  hog_feat = []\n",
        "  for img in tqdm(images):\n",
        "    fd, _ = hog(img, orientations=9, pixels_per_cell=(8, 8),\n",
        "                    cells_per_block=(2,2), visualize=True, block_norm='L2-Hys')\n",
        "    hog_feat.append(fd)\n",
        "  return np.array(hog_feat)"
      ],
      "metadata": {
        "id": "Z4Mxqnq4WXrM"
      },
      "execution_count": null,
      "outputs": []
    },
    {
      "cell_type": "code",
      "source": [
        "def display_hog_img(hog_image):\n",
        "  hog_image_rescaled = exposure.rescale_intensity(hog_image, in_range=(0, 100))\n",
        "  plt.imshow(hog_image_rescaled, cmap=plt.cm.gray)\n",
        "  plt.title('Histogram of Oriented Gradients (HOG)')\n",
        "  plt.show()"
      ],
      "metadata": {
        "id": "j_wk92xxWXk8"
      },
      "execution_count": null,
      "outputs": []
    },
    {
      "cell_type": "markdown",
      "source": [
        "LBP"
      ],
      "metadata": {
        "id": "xPU6bkaagESh"
      }
    },
    {
      "cell_type": "code",
      "source": [
        "def compute_lbp(images, radius = 3, METHOD = 'uniform'):\n",
        "  n_points = 3*radius\n",
        "  lbp =[]\n",
        "\n",
        "  for img in tqdm(images):\n",
        "    lbp_img = local_binary_pattern(img, n_points, radius, METHOD)# lbp\n",
        "    n_bins = int(lbp_img.max() + 1)# bins\n",
        "    hist, _ = np.histogram(lbp_img.ravel(), bins=n_bins, range=(0, n_bins))\n",
        "    #normalize\n",
        "    hist = hist.astype(\"float\")\n",
        "    hist /= (hist.sum() + 1e-7)\n",
        "    lbp.append(hist)\n",
        "\n",
        "  return np.array(lbp)\n"
      ],
      "metadata": {
        "id": "R82h2aQfgBbz"
      },
      "execution_count": null,
      "outputs": []
    },
    {
      "cell_type": "markdown",
      "source": [
        "\n",
        "\n",
        "```\n",
        "# lbp_train = compute_lbp(train_img)\n",
        "# lbp_train = np.array(lbp_train)\n",
        "# lbp_val = compute_lbp(val_img)\n",
        "# lbp_val = np.array(lbp_val)\n",
        "# lbp_train.shape, y_train.shape, lbp_val.shape, y_test.shape\n",
        "```\n",
        "\n"
      ],
      "metadata": {
        "id": "qNGseSaBgJ4T"
      }
    },
    {
      "cell_type": "markdown",
      "source": [
        "DFT- Frequency-based feature"
      ],
      "metadata": {
        "id": "zDM1DtxkgRYG"
      }
    },
    {
      "cell_type": "code",
      "source": [
        "def extract_dft_features(image):\n",
        "  epsilon = 1e-10\n",
        "  dft = cv2.dft(np.float32(image), flags=cv2.DFT_COMPLEX_OUTPUT) # (DFT)\n",
        "  dft_shift = np.fft.fftshift(dft) #zero frequency component to the center\n",
        "  # magnitude spectrum\n",
        "  magnitude = cv2.magnitude(dft_shift[:, :, 0], dft_shift[:, :, 1])\n",
        "  magnitude_without0 = np.array([arr + (arr == 0) * epsilon for arr in magnitude]) # add an epsilon to 0 magnitute features / log(0) -> -inf\n",
        "  magnitude_spectrum = 20 * np.log(magnitude_without0)\n",
        "\n",
        "  features = magnitude_spectrum.flatten() # Extract features\n",
        "  return features\n"
      ],
      "metadata": {
        "id": "LjD8AbgEgBY0"
      },
      "execution_count": null,
      "outputs": []
    },
    {
      "cell_type": "code",
      "source": [
        "def dft_main(images):\n",
        "  # perform discrete fourier transformation\n",
        "  dft_features =[]\n",
        "  for img in tqdm(images):\n",
        "    features = extract_dft_features(img)\n",
        "    dft_features.append(features)\n",
        "\n",
        "  # normilize features\n",
        "  features = np.array(dft_features)\n",
        "  def norm(sample):\n",
        "    return (sample - sample.min()) / (sample.max() - sample.min())\n",
        "  feat_norm = np.array([norm(feat) for feat in features ])\n",
        "\n",
        "  return  feat_norm"
      ],
      "metadata": {
        "id": "g8gjMZr5gBU2"
      },
      "execution_count": null,
      "outputs": []
    },
    {
      "cell_type": "markdown",
      "source": [
        "\n",
        "\n",
        "```\n",
        "# dft_train = dft_main(train_img)\n",
        "# dft_val = dft_main(val_img)\n",
        "```\n",
        "\n"
      ],
      "metadata": {
        "id": "cg5Ys4EdgW1v"
      }
    },
    {
      "cell_type": "markdown",
      "source": [
        "# ML Procedure"
      ],
      "metadata": {
        "id": "nOO2ABW6vj__"
      }
    },
    {
      "cell_type": "code",
      "source": [
        "#Generalizing a model with our test data for making prediction\n",
        "def report(model, X_test, y_test):\n",
        "  y_pred=model.predict(X_test)\n",
        "\n",
        "  print(classification_report(y_test,y_pred))\n",
        "  cm = confusion_matrix(y_test, y_pred)\n",
        "  print(cm)\n",
        "\n",
        "  print('Acc:', round(accuracy_score(y_test, y_pred) ,4))\n",
        "  print('Ballance Accy:', round(balanced_accuracy_score(y_test, y_pred) ,4))\n",
        "  print('Pr:', round(precision_score(y_test, y_pred,average='weighted') ,4))\n",
        "  print('Rec:', round(recall_score(y_test, y_pred, average='weighted') ,4))\n",
        "  print('F1:', round(f1_score(y_test, y_pred, average='weighted') ,4))"
      ],
      "metadata": {
        "id": "zvHfocf6vmCN"
      },
      "execution_count": null,
      "outputs": []
    },
    {
      "cell_type": "code",
      "source": [
        "def split_data(X, y):\n",
        "  X_train, X_test, y_train, y_test = train_test_split(X, y, test_size=0.2, random_state=42, stratify= y)\n",
        "\n",
        "  unique_train, counts_train = np.unique(y_train, return_counts=True)\n",
        "  unique_test, counts_test = np.unique(y_test, return_counts=True)\n",
        "\n",
        "  print(f'Train:{len(X_train)}-Test:{len(X_test)}')\n",
        "  print(f'Train: {unique_train}-{counts_train}')\n",
        "  print(f'Test: {unique_test}-{counts_test}')\n",
        "  return X_train, X_test, y_train, y_test"
      ],
      "metadata": {
        "id": "drPQOoNGvmbP"
      },
      "execution_count": null,
      "outputs": []
    },
    {
      "cell_type": "code",
      "source": [
        "def oversampling_smote(X, y):\n",
        "  X_over, y_over = SMOTE().fit_resample(X, y)\n",
        "  unique, counts = np.unique(y_over, return_counts=True)\n",
        "  print(unique, counts)\n",
        "  return X_over, y_over"
      ],
      "metadata": {
        "id": "4GKpRga0vmTd"
      },
      "execution_count": null,
      "outputs": []
    },
    {
      "cell_type": "markdown",
      "source": [
        "# Main - Feature Extraction"
      ],
      "metadata": {
        "id": "rlPVScwpdgY-"
      }
    },
    {
      "cell_type": "markdown",
      "source": [
        "## Text Pre-Processing"
      ],
      "metadata": {
        "id": "1uD9ZoUQdiet"
      }
    },
    {
      "cell_type": "code",
      "source": [
        "text_df['text_corrected'] = text_df['text_corrected'].apply(lower_case_sentiment)\n",
        "print('-- Lower --')\n",
        "count_url(df=text_df, col='text_corrected')\n",
        "text_df['text_corrected'] = text_df['text_corrected'].apply(remove_urls)\n",
        "count_url(df=text_df, col='text_corrected')\n",
        "print('-- Url Remove --')\n",
        "text_df['text_corrected'] = text_df['text_corrected'].apply(remove_punctuations)\n",
        "print('-- Punctuations Remove --')\n",
        "text_df['text_corrected'] = text_df['text_corrected'].apply(remove_stopwords)\n",
        "print('-- StopWords Remove --')\n",
        "text_df['text_corrected'] = text_df['text_corrected'].apply(remove_numbers)\n",
        "print('-- Numbers Remove --')\n",
        "text_df['text_corrected'] = text_df['text_corrected'].apply(remove_non_english_words)\n",
        "print('-- Non-English Remove --')\n",
        "text_df['text_corrected'] = text_df['text_corrected'].apply(snowball_stem)\n",
        "print('-- Stemming --')"
      ],
      "metadata": {
        "colab": {
          "base_uri": "https://localhost:8080/"
        },
        "id": "olZDrhUldiG0",
        "outputId": "2513b342-49b4-4ec5-b093-2d70743d21b0"
      },
      "execution_count": null,
      "outputs": [
        {
          "output_type": "stream",
          "name": "stdout",
          "text": [
            "-- Lower --\n",
            "Urls: 63\n",
            "Urls: 0\n",
            "-- Url Remove --\n",
            "-- Punctuations Remove --\n",
            "-- StopWords Remove --\n",
            "-- Numbers Remove --\n",
            "-- Non-English Remove --\n",
            "-- Stemming --\n"
          ]
        }
      ]
    },
    {
      "cell_type": "markdown",
      "source": [
        " ## Text Feature exctraction"
      ],
      "metadata": {
        "id": "Z0NmaQv7ojf5"
      }
    },
    {
      "cell_type": "code",
      "source": [
        "X_text = text_df['text_corrected'].to_list()\n",
        "y = np.array(text_df['overall_sentiment'])"
      ],
      "metadata": {
        "id": "S_Fz5qt8nonN"
      },
      "execution_count": null,
      "outputs": []
    },
    {
      "cell_type": "markdown",
      "source": [
        "Word2Vec"
      ],
      "metadata": {
        "id": "NqSSK768j5KZ"
      }
    },
    {
      "cell_type": "code",
      "source": [
        "X_w2v = np.array([vectorize(sentence) for sentence in X_text])\n",
        "X_w2v.shape\n",
        "\n",
        "# Normalize\n",
        "df_w2v = pd.DataFrame(X_w2v)\n",
        "df_w2v = (df_w2v-df_w2v.min())/(df_w2v.max()-df_w2v.min())\n",
        "df_w2v.shape"
      ],
      "metadata": {
        "colab": {
          "base_uri": "https://localhost:8080/"
        },
        "id": "Wq9LevT4j8ka",
        "outputId": "65ae9d1b-7f64-464c-9714-4a42cf5a709b"
      },
      "execution_count": null,
      "outputs": [
        {
          "output_type": "execute_result",
          "data": {
            "text/plain": [
              "(4544, 3000)"
            ]
          },
          "metadata": {},
          "execution_count": 36
        }
      ]
    },
    {
      "cell_type": "markdown",
      "source": [
        "Weighted Tf-IDF"
      ],
      "metadata": {
        "id": "GctuAWFgoHEc"
      }
    },
    {
      "cell_type": "code",
      "source": [
        "# weights = [ w for w in compute_class_weight(y).values()]\n",
        "# df_tdidf = tfidf_imbalance(text_df, 'overall_sentiment', 500, weights = weights)\n",
        "# # Normalize\n",
        "# df_tdidf = (df_tdidf-df_tdidf.min())/(df_tdidf.max()-df_tdidf.min())\n",
        "# df_tdidf.shape"
      ],
      "metadata": {
        "id": "EjCNbridj8hq"
      },
      "execution_count": null,
      "outputs": []
    },
    {
      "cell_type": "markdown",
      "source": [
        "## Image Feature Extraction"
      ],
      "metadata": {
        "id": "IHA4C8ULoVUD"
      }
    },
    {
      "cell_type": "markdown",
      "source": [
        "HOG"
      ],
      "metadata": {
        "id": "4Y5zFv-6qI4O"
      }
    },
    {
      "cell_type": "code",
      "source": [
        "# X_hog = hog_feature_extr(images)\n",
        "# X_hog.shape"
      ],
      "metadata": {
        "id": "YXjaqgdCj8em"
      },
      "execution_count": null,
      "outputs": []
    },
    {
      "cell_type": "markdown",
      "source": [
        "LBP"
      ],
      "metadata": {
        "id": "k8QUCu_aqJ2l"
      }
    },
    {
      "cell_type": "code",
      "source": [
        "# X_lbp = compute_lbp(images)\n",
        "# X_lbp.shape"
      ],
      "metadata": {
        "id": "KLug9SxHj8Ve"
      },
      "execution_count": null,
      "outputs": []
    },
    {
      "cell_type": "markdown",
      "source": [
        "DFT"
      ],
      "metadata": {
        "id": "Njpzjiy7qopa"
      }
    },
    {
      "cell_type": "code",
      "source": [
        "dft_train = dft_main(images)\n",
        "dft_train.shape"
      ],
      "metadata": {
        "colab": {
          "base_uri": "https://localhost:8080/"
        },
        "id": "guGmMuNCqpBQ",
        "outputId": "99bffeae-8666-42e4-9f4f-8511a64e5c6a"
      },
      "execution_count": null,
      "outputs": [
        {
          "output_type": "stream",
          "name": "stderr",
          "text": [
            "100%|██████████| 4544/4544 [00:28<00:00, 157.26it/s]\n"
          ]
        },
        {
          "output_type": "execute_result",
          "data": {
            "text/plain": [
              "(4544, 40000)"
            ]
          },
          "metadata": {},
          "execution_count": 40
        }
      ]
    },
    {
      "cell_type": "markdown",
      "source": [
        "# Main - ML Models"
      ],
      "metadata": {
        "id": "5eO4XPklwxw6"
      }
    },
    {
      "cell_type": "code",
      "source": [
        "def split_smote_img(text_df, y):\n",
        "  print(f'Text:{text_df.shape}')\n",
        "  # text - SMOTE\n",
        "  X_train_text, X_test_text, y_train_text, y_test_text = split_data(text_df, y)\n",
        "  X_over_text, y_over_text = oversampling_smote(X_train_text, y_train_text)\n",
        "  print('... Text SMOTE')\n",
        "  return X_train_text,y_train_text, X_test_text,  y_test_text\n",
        "\n",
        "def split_smote_txt(img_df, y):\n",
        "  print(f'Image:{img_df.shape}')\n",
        "  # image - SMOTE\n",
        "  X_train_img, X_test_img, y_train_img, y_test_img = split_data(img_df, y)\n",
        "  X_over_img, y_over_img = oversampling_smote(X_train_img, y_train_img)\n",
        "  print('... Img SMOTE')\n",
        "  return X_train_img, y_train_img, X_test_img, y_test_img"
      ],
      "metadata": {
        "id": "LiUSu2HCkYLY"
      },
      "execution_count": null,
      "outputs": []
    },
    {
      "cell_type": "code",
      "source": [
        "print(' ...  Text ...')\n",
        "X_over_text, y_over_text, X_test_text, y_test_text = split_smote_img(X_w2v, y)\n",
        "print(f'X_train: {X_over_text.shape}, y_train:{y_over_text.shape}\\nX_test:{X_test_text.shape} y_test:{y_test_text.shape}')\n",
        "\n",
        "print(' ...  Image ...')\n",
        "X_over_img, y_over_img, X_test_img, y_test_img = split_smote_img(dft_train, y)\n",
        "print(f'X_train: {X_over_img.shape}, y_train:{y_over_img.shape}\\nX_test:{X_test_img.shape} y_test:{y_test_img.shape}')"
      ],
      "metadata": {
        "colab": {
          "base_uri": "https://localhost:8080/"
        },
        "id": "jvmOQl_J6VZL",
        "outputId": "619b0bd4-660a-480b-f4ec-48b5d0b404f6"
      },
      "execution_count": null,
      "outputs": [
        {
          "output_type": "stream",
          "name": "stdout",
          "text": [
            " ...  Text ...\n",
            "Text:(4544, 3000)\n",
            "Train:3635-Test:909\n",
            "Train: [0 1 2]-[2161 1145  329]\n",
            "Test: [0 1 2]-[541 286  82]\n",
            "[0 1 2] [2161 2161 2161]\n",
            "... Text SMOTE\n",
            "X_train: (3635, 3000), y_train:(3635,)\n",
            "X_test:(909, 3000) y_test:(909,)\n",
            " ...  Image ...\n",
            "Text:(4544, 40000)\n",
            "Train:3635-Test:909\n",
            "Train: [0 1 2]-[2161 1145  329]\n",
            "Test: [0 1 2]-[541 286  82]\n",
            "[0 1 2] [2161 2161 2161]\n",
            "... Text SMOTE\n",
            "X_train: (3635, 40000), y_train:(3635,)\n",
            "X_test:(909, 40000) y_test:(909,)\n"
          ]
        }
      ]
    },
    {
      "cell_type": "markdown",
      "source": [
        "Target Correlation"
      ],
      "metadata": {
        "id": "ulD8snXVJhS9"
      }
    },
    {
      "cell_type": "markdown",
      "source": [
        "# Early fusion  "
      ],
      "metadata": {
        "id": "xGtM3KWle-ON"
      }
    },
    {
      "cell_type": "code",
      "source": [
        "#X_test_text.index = X_test_text.reset_index(drop=True).index"
      ],
      "metadata": {
        "id": "R75MqdPyZDRa"
      },
      "execution_count": null,
      "outputs": []
    },
    {
      "cell_type": "code",
      "source": [
        "main_test = pd.concat((pd.DataFrame(X_test_text), pd.DataFrame(X_test_img)), axis=1)"
      ],
      "metadata": {
        "id": "9LHfFgSWa-xz"
      },
      "execution_count": null,
      "outputs": []
    },
    {
      "cell_type": "code",
      "source": [
        "# X_over_text.index = X_over_text.reset_index(drop=True).index"
      ],
      "metadata": {
        "id": "Aw4eHaVrwp_M"
      },
      "execution_count": null,
      "outputs": []
    },
    {
      "cell_type": "code",
      "source": [
        "main_train = pd.concat((pd.DataFrame(X_over_text), pd.DataFrame(X_over_img)), axis=1)"
      ],
      "metadata": {
        "id": "JAhfgDW8vjar"
      },
      "execution_count": null,
      "outputs": []
    },
    {
      "cell_type": "code",
      "source": [
        "print(f'Train:{main_train.shape} Test:{main_test.shape}')"
      ],
      "metadata": {
        "id": "_fboLDxKPo49",
        "colab": {
          "base_uri": "https://localhost:8080/"
        },
        "outputId": "05daf13a-625a-4592-dfe5-cb7f9076a524"
      },
      "execution_count": null,
      "outputs": [
        {
          "output_type": "stream",
          "name": "stdout",
          "text": [
            "Train:(3635, 43000) Test:(909, 43000)\n"
          ]
        }
      ]
    },
    {
      "cell_type": "code",
      "source": [
        "# sgd = SGDClassifier().fit(main_train.values, y_over_text)\n",
        "# print('..trained')\n",
        "# report(model = sgd, X_test =main_test, y_test = y_test_text)"
      ],
      "metadata": {
        "id": "0idX5LmCPo10",
        "colab": {
          "base_uri": "https://localhost:8080/"
        },
        "outputId": "77108a36-7295-4eb9-840b-3ff74becf56b"
      },
      "execution_count": null,
      "outputs": [
        {
          "output_type": "stream",
          "name": "stdout",
          "text": [
            "..trained\n",
            "              precision    recall  f1-score   support\n",
            "\n",
            "           0       0.60      0.69      0.64       541\n",
            "           1       0.33      0.31      0.32       286\n",
            "           2       0.12      0.02      0.04        82\n",
            "\n",
            "    accuracy                           0.51       909\n",
            "   macro avg       0.35      0.34      0.33       909\n",
            "weighted avg       0.47      0.51      0.49       909\n",
            "\n",
            "[[374 156  11]\n",
            " [194  88   4]\n",
            " [ 56  24   2]]\n",
            "Acc: 0.5105\n",
            "Ballance Accy: 0.3411\n",
            "Pr: 0.4706\n",
            "Rec: 0.5105\n",
            "F1: 0.4857\n"
          ]
        }
      ]
    },
    {
      "cell_type": "code",
      "source": [],
      "metadata": {
        "id": "H6jhs8HjFHTJ"
      },
      "execution_count": null,
      "outputs": []
    },
    {
      "cell_type": "code",
      "source": [
        "import tensorflow as tf\n",
        "from keras.models import Sequential\n",
        "from keras.layers import Dense, Dropout\n",
        "from tensorflow import keras\n",
        "from keras.utils import to_categorical\n",
        "tf.config.run_functions_eagerly(True)"
      ],
      "metadata": {
        "id": "OSBhI2EnyD-E"
      },
      "execution_count": null,
      "outputs": []
    },
    {
      "cell_type": "code",
      "source": [
        "y = to_categorical(y_over_text)"
      ],
      "metadata": {
        "id": "_cxx-PofBIpi"
      },
      "execution_count": null,
      "outputs": []
    },
    {
      "cell_type": "code",
      "source": [
        "model = Sequential()\n",
        "model.add(Dense(362 ,input_dim=main_train.shape[1], activation='relu')) #8, 10\n",
        "model.add(Dense(256 , activation='relu')) #8, 10\n",
        "model.add(Dense(158 , activation='relu')) #8, 10\n",
        "model.add(Dense(64 , activation='relu')) #8, 10\n",
        "\n",
        "model.add(Dense(3, activation='sigmoid')) # softmax\n",
        "\n",
        "\n",
        "model.compile(optimizer='adam', loss='categorical_crossentropy', metrics=['accuracy'])\n",
        "\n",
        "model.summary()"
      ],
      "metadata": {
        "colab": {
          "base_uri": "https://localhost:8080/"
        },
        "id": "Vj0zf5Sdxwvr",
        "outputId": "5a7aa7c6-b466-4df1-8177-dad859c3f7fc"
      },
      "execution_count": null,
      "outputs": [
        {
          "output_type": "stream",
          "name": "stdout",
          "text": [
            "Model: \"sequential\"\n",
            "_________________________________________________________________\n",
            " Layer (type)                Output Shape              Param #   \n",
            "=================================================================\n",
            " dense (Dense)               (None, 362)               15566362  \n",
            "                                                                 \n",
            " dense_1 (Dense)             (None, 256)               92928     \n",
            "                                                                 \n",
            " dense_2 (Dense)             (None, 158)               40606     \n",
            "                                                                 \n",
            " dense_3 (Dense)             (None, 64)                10176     \n",
            "                                                                 \n",
            " dense_4 (Dense)             (None, 3)                 195       \n",
            "                                                                 \n",
            "=================================================================\n",
            "Total params: 15710267 (59.93 MB)\n",
            "Trainable params: 15710267 (59.93 MB)\n",
            "Non-trainable params: 0 (0.00 Byte)\n",
            "_________________________________________________________________\n"
          ]
        }
      ]
    },
    {
      "cell_type": "code",
      "source": [
        "history = model.fit(main_train,\n",
        "                    y,\n",
        "                    epochs=5,\n",
        "                    batch_size=500,\n",
        "                    validation_split=0.25\n",
        "                    ) # callbacks=[EarlyStopping(monitor='val_loss',patience=7, min_delta=0.0001)]"
      ],
      "metadata": {
        "id": "b7_29ujUzS8P"
      },
      "execution_count": null,
      "outputs": []
    },
    {
      "cell_type": "code",
      "source": [],
      "metadata": {
        "id": "un55qLC9A9Dx"
      },
      "execution_count": null,
      "outputs": []
    },
    {
      "cell_type": "code",
      "source": [
        "lsvc = SVC().fit(main_train.values, y_over_text)\n",
        "print('..trained')\n",
        "report(model = lsvc, X_test =main_test, y_test = y_test_text)"
      ],
      "metadata": {
        "id": "dMaFim_Iizqr"
      },
      "execution_count": null,
      "outputs": []
    }
  ]
}